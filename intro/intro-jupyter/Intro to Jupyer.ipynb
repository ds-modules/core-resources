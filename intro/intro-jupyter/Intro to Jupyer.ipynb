{
 "cells": [
  {
   "cell_type": "markdown",
   "metadata": {},
   "source": [
    "# Welcome to Jupyter"
   ]
  },
  {
   "cell_type": "markdown",
   "metadata": {},
   "source": [
    "This is a Jupyter notebook. It allows for the simultaneous presentation of text, images, equations, code, and much more in one place, and allows students to view and learn a data science project."
   ]
  },
  {
   "cell_type": "markdown",
   "metadata": {},
   "source": [
    "This Jupyter notebook is composed of 2 kinds of cells: markdown and code. A markdown cell, such as this one, contains text. A code cell contains code in Python, a programming language that we will be using for the remainder of this module.\n",
    "\n",
    "To run a code cell, press Shift-Enter or click Cell > Run Cells in the menu at the top of the screen. To edit a code cell, simply click in the cell and make your changes. Try running the cell below:"
   ]
  },
  {
   "cell_type": "code",
   "execution_count": 1,
   "metadata": {},
   "outputs": [
    {
     "name": "stdout",
     "output_type": "stream",
     "text": [
      "Hello World!\n"
     ]
    }
   ],
   "source": [
    "print('Hello World!')"
   ]
  },
  {
   "cell_type": "markdown",
   "metadata": {},
   "source": [
    "## Jupyter Environment"
   ]
  },
  {
   "cell_type": "markdown",
   "metadata": {},
   "source": [
    "Our Jupyter notebook lives on Datahub, UC Berkeley's jupyter hub that hosts and provides computing power for our notebooks. You can also set up Jupyter to work locally using the instructions provided by Data 100 [here](http://www.ds100.org/fa19/setup/)."
   ]
  },
  {
   "cell_type": "markdown",
   "metadata": {},
   "source": [
    "In addition to writing and running code cells, there are several general things to know about the Jupyter environment. Up above, we have the menu composed of the following elements:\n",
    "\n",
    "1. File\n",
    "    a. Here you can make changes to the file, renaming it, saving it, downloading it and more. Be sure to save your work often and know that you can revert to your latest checkpoint if something goes wrong.\n",
    "2. Edit\n",
    "    a. Edit allows you to manipulate cells, by adding, removing, merging, or copying cells\n",
    "3. View\n",
    "    a. The View menu is useful for toggling the visibility of the header and toolbar. You can also toggle Line Numbers within cells on or off.\n",
    "4. Insert\n",
    "    a. Insert allows you to add a cell above or below.\n",
    "5. Cell\n",
    "    a. Cell allows you to change the type of cell, as well as run it, or a group of cells.\n",
    "6. Kernel\n",
    "    a. The kernel is what allows your program to run on the Jupyter Hub, in this menu you will be able to restart the kernel, a useful feature if something stops working and you aren't sure why.\n",
    "    \n",
    "The toolbar includes the same functionality as in the menu bars, but in a more easily accessible format.\n",
    "\n",
    "Finally, Jupyter has a lot of useful keyboard shortcuts. Shift-Enter  is perhaps the most useful, as it allows you to run a cell. Clicking escape while typing in a cell will allow you to enter other commands and stop typing code, A will insert a cell above, B will incert a cell below, M will make a cell a markdown cell, while Y will make a cell a code cell. There are many more keyboard shortcuts available, and clicking P will give you a comprehensive, searchable guide, to all of them that are available."
   ]
  },
  {
   "cell_type": "markdown",
   "metadata": {},
   "source": [
    "## Markdown "
   ]
  },
  {
   "cell_type": "markdown",
   "metadata": {},
   "source": [
    "Markdown is a markup language that allows for beautiful plain text formatting. It allows you to create headers, utilize lists, insert  $\\LaTeX$ equations, insert pictures, and much more. Below is a quick guide to some of the things you can do in markdown, and a more comprehensive guide to markdown is available [here](https://guides.github.com/features/mastering-markdown/)."
   ]
  },
  {
   "cell_type": "markdown",
   "metadata": {},
   "source": [
    "## Text Editing"
   ]
  },
  {
   "attachments": {},
   "cell_type": "markdown",
   "metadata": {},
   "source": [
    "When writing text, you can make some words **bold** by surrounding a piece of text with two asterisk symbols on each side, and can make selections *italic* by surrounding them with one asterisk on each side. You can even make selections both ***bold and italic*** by surrounding them with three asterisks on each side."
   ]
  },
  {
   "cell_type": "markdown",
   "metadata": {},
   "source": [
    "## Headers"
   ]
  },
  {
   "cell_type": "markdown",
   "metadata": {},
   "source": [
    "Headers in Markdown are  denoted using the `#` symbol and the number of `#` symbols corresponds to the level of the header. The following markdown generates the result you see below:\n"
   ]
  },
  {
   "cell_type": "markdown",
   "metadata": {},
   "source": [
    "    # Header 1\n",
    "    ## Header 2\n",
    "    ### Header 3\n",
    "    #### Header 4"
   ]
  },
  {
   "cell_type": "markdown",
   "metadata": {},
   "source": [
    "# Header 1\n",
    "## Header 2\n",
    "### Header 3\n",
    "#### Header 4"
   ]
  },
  {
   "cell_type": "markdown",
   "metadata": {},
   "source": [
    "## Lists"
   ]
  },
  {
   "cell_type": "markdown",
   "metadata": {},
   "source": [
    "Markdown allows you to create unordered or odered lists"
   ]
  },
  {
   "cell_type": "markdown",
   "metadata": {},
   "source": [
    "### Unordered"
   ]
  },
  {
   "cell_type": "markdown",
   "metadata": {},
   "source": [
    "The markdown below will generate the list in the following cell\n",
    "    * Item 1\n",
    "    * Item 2\n",
    "      * Item 2a\n",
    "      * Item 2b"
   ]
  },
  {
   "cell_type": "markdown",
   "metadata": {},
   "source": [
    "* Item 1\n",
    "* Item 2\n",
    "  * Item 2a\n",
    "  * Item 2b"
   ]
  },
  {
   "cell_type": "markdown",
   "metadata": {},
   "source": [
    "### Ordered"
   ]
  },
  {
   "cell_type": "markdown",
   "metadata": {},
   "source": [
    "The markdown below will generate the list in the following cell\n",
    "    1. Item 1\n",
    "    1. Item 2\n",
    "    1. Item 3\n",
    "       1. Item 3a\n",
    "       1. Item 3b"
   ]
  },
  {
   "cell_type": "markdown",
   "metadata": {},
   "source": [
    "1. Item 1\n",
    "1. Item 2\n",
    "1. Item 3\n",
    "   1. Item 3a\n",
    "   1. Item 3b"
   ]
  },
  {
   "cell_type": "markdown",
   "metadata": {},
   "source": [
    "## Links"
   ]
  },
  {
   "attachments": {},
   "cell_type": "markdown",
   "metadata": {},
   "source": [
    "In markdown we can also create links using the following format\n",
    "\n",
    "    [Click Here!](http://berkeley.edu)\n",
    "which results in a link that looks like this\n",
    "[Click Here!](http://berkeley.edu)\n",
    "We can also use links to include images and videos in our notebooks.\n",
    "    \n",
    "    ![A test image](https://www.berkeley.edu/images/uploads/logo-ucberkeley.png)\n",
    "    \n",
    "![A test image](https://www.berkeley.edu/images/uploads/logo-ucberkeley.png)"
   ]
  },
  {
   "cell_type": "markdown",
   "metadata": {},
   "source": [
    "## Putting It All Together"
   ]
  },
  {
   "attachments": {},
   "cell_type": "markdown",
   "metadata": {},
   "source": [
    "We can use the markdown tricks from above to create a more fluid notebook experience when developing. For instance, we can create a table of contents such as the one below."
   ]
  },
  {
   "attachments": {},
   "cell_type": "markdown",
   "metadata": {},
   "source": [
    "Table of Contents:\n",
    "* [Jupyter Environment](#Jupyter-Environment)\n",
    "* [Markdown](#Markdown)\n",
    "    * [Text Editing](#Text-Editing)\n",
    "    * [Headers](#Headers)\n",
    "    * [Lists](#Lists)\n",
    "        * [Unordered](#Unordered)\n",
    "        * [Ordered](#Ordered)\n",
    "    * [Links](#Links)"
   ]
  },
  {
   "cell_type": "markdown",
   "metadata": {},
   "source": [
    "## Code"
   ]
  },
  {
   "cell_type": "markdown",
   "metadata": {},
   "source": [
    "Code cells will be the primary functioning aspects of your notebook, and will allow you to perform various tasks in the modules demonstration. For intro to python materials, check out the python intro notebook."
   ]
  },
  {
   "cell_type": "markdown",
   "metadata": {},
   "source": [
    "### Python"
   ]
  },
  {
   "cell_type": "code",
   "execution_count": 24,
   "metadata": {},
   "outputs": [],
   "source": [
    "import numpy as np\n",
    "from datascience import *\n",
    "from ipywidgets import interact, Dropdown, IntSlider\n",
    "import ipywidgets as widgets\n",
    "import matplotlib.pyplot as plt\n",
    "%matplotlib inline"
   ]
  },
  {
   "cell_type": "code",
   "execution_count": 16,
   "metadata": {},
   "outputs": [
    {
     "name": "stdout",
     "output_type": "stream",
     "text": [
      "Welcome to Modules!\n"
     ]
    }
   ],
   "source": [
    "print('Welcome to Modules!')"
   ]
  },
  {
   "cell_type": "markdown",
   "metadata": {},
   "source": [
    "### Magic Commands"
   ]
  },
  {
   "cell_type": "markdown",
   "metadata": {},
   "source": [
    "Jupyter notebooks allow you to use several interesting magic commands that can help with notebook development. Magic commands can be used to do a variety of diferent things, and full documentation for the magic commands is available [here](https://ipython.readthedocs.io/en/stable/interactive/magics.html). There are cell commands and also line commands which would affect what happens in the cell or the line respectively. Cell commands can be called using '%%', while line commands are called using '%'\n",
    "\n",
    "\n",
    " A full list of available magic commands can be brought up by typing:\n",
    "`%lsmagic`"
   ]
  },
  {
   "cell_type": "code",
   "execution_count": 6,
   "metadata": {},
   "outputs": [
    {
     "data": {
      "application/json": {
       "cell": {
        "!": "OSMagics",
        "HTML": "Other",
        "SVG": "Other",
        "bash": "Other",
        "capture": "ExecutionMagics",
        "debug": "ExecutionMagics",
        "file": "Other",
        "html": "DisplayMagics",
        "javascript": "DisplayMagics",
        "js": "DisplayMagics",
        "latex": "DisplayMagics",
        "markdown": "DisplayMagics",
        "perl": "Other",
        "prun": "ExecutionMagics",
        "pypy": "Other",
        "python": "Other",
        "python2": "Other",
        "python3": "Other",
        "ruby": "Other",
        "script": "ScriptMagics",
        "sh": "Other",
        "svg": "DisplayMagics",
        "sx": "OSMagics",
        "system": "OSMagics",
        "time": "ExecutionMagics",
        "timeit": "ExecutionMagics",
        "writefile": "OSMagics"
       },
       "line": {
        "alias": "OSMagics",
        "alias_magic": "BasicMagics",
        "autoawait": "AsyncMagics",
        "autocall": "AutoMagics",
        "automagic": "AutoMagics",
        "autosave": "KernelMagics",
        "bookmark": "OSMagics",
        "cat": "Other",
        "cd": "OSMagics",
        "clear": "KernelMagics",
        "colors": "BasicMagics",
        "conda": "PackagingMagics",
        "config": "ConfigMagics",
        "connect_info": "KernelMagics",
        "cp": "Other",
        "debug": "ExecutionMagics",
        "dhist": "OSMagics",
        "dirs": "OSMagics",
        "doctest_mode": "BasicMagics",
        "ed": "Other",
        "edit": "KernelMagics",
        "env": "OSMagics",
        "gui": "BasicMagics",
        "hist": "Other",
        "history": "HistoryMagics",
        "killbgscripts": "ScriptMagics",
        "ldir": "Other",
        "less": "KernelMagics",
        "lf": "Other",
        "lk": "Other",
        "ll": "Other",
        "load": "CodeMagics",
        "load_ext": "ExtensionMagics",
        "loadpy": "CodeMagics",
        "logoff": "LoggingMagics",
        "logon": "LoggingMagics",
        "logstart": "LoggingMagics",
        "logstate": "LoggingMagics",
        "logstop": "LoggingMagics",
        "ls": "Other",
        "lsmagic": "BasicMagics",
        "lx": "Other",
        "macro": "ExecutionMagics",
        "magic": "BasicMagics",
        "man": "KernelMagics",
        "matplotlib": "PylabMagics",
        "mkdir": "Other",
        "more": "KernelMagics",
        "mv": "Other",
        "notebook": "BasicMagics",
        "page": "BasicMagics",
        "pastebin": "CodeMagics",
        "pdb": "ExecutionMagics",
        "pdef": "NamespaceMagics",
        "pdoc": "NamespaceMagics",
        "pfile": "NamespaceMagics",
        "pinfo": "NamespaceMagics",
        "pinfo2": "NamespaceMagics",
        "pip": "PackagingMagics",
        "popd": "OSMagics",
        "pprint": "BasicMagics",
        "precision": "BasicMagics",
        "prun": "ExecutionMagics",
        "psearch": "NamespaceMagics",
        "psource": "NamespaceMagics",
        "pushd": "OSMagics",
        "pwd": "OSMagics",
        "pycat": "OSMagics",
        "pylab": "PylabMagics",
        "qtconsole": "KernelMagics",
        "quickref": "BasicMagics",
        "recall": "HistoryMagics",
        "rehashx": "OSMagics",
        "reload_ext": "ExtensionMagics",
        "rep": "Other",
        "rerun": "HistoryMagics",
        "reset": "NamespaceMagics",
        "reset_selective": "NamespaceMagics",
        "rm": "Other",
        "rmdir": "Other",
        "run": "ExecutionMagics",
        "save": "CodeMagics",
        "sc": "OSMagics",
        "set_env": "OSMagics",
        "store": "StoreMagics",
        "sx": "OSMagics",
        "system": "OSMagics",
        "tb": "ExecutionMagics",
        "time": "ExecutionMagics",
        "timeit": "ExecutionMagics",
        "unalias": "OSMagics",
        "unload_ext": "ExtensionMagics",
        "who": "NamespaceMagics",
        "who_ls": "NamespaceMagics",
        "whos": "NamespaceMagics",
        "xdel": "NamespaceMagics",
        "xmode": "BasicMagics"
       }
      },
      "text/plain": [
       "Available line magics:\n",
       "%alias  %alias_magic  %autoawait  %autocall  %automagic  %autosave  %bookmark  %cat  %cd  %clear  %colors  %conda  %config  %connect_info  %cp  %debug  %dhist  %dirs  %doctest_mode  %ed  %edit  %env  %gui  %hist  %history  %killbgscripts  %ldir  %less  %lf  %lk  %ll  %load  %load_ext  %loadpy  %logoff  %logon  %logstart  %logstate  %logstop  %ls  %lsmagic  %lx  %macro  %magic  %man  %matplotlib  %mkdir  %more  %mv  %notebook  %page  %pastebin  %pdb  %pdef  %pdoc  %pfile  %pinfo  %pinfo2  %pip  %popd  %pprint  %precision  %prun  %psearch  %psource  %pushd  %pwd  %pycat  %pylab  %qtconsole  %quickref  %recall  %rehashx  %reload_ext  %rep  %rerun  %reset  %reset_selective  %rm  %rmdir  %run  %save  %sc  %set_env  %store  %sx  %system  %tb  %time  %timeit  %unalias  %unload_ext  %who  %who_ls  %whos  %xdel  %xmode\n",
       "\n",
       "Available cell magics:\n",
       "%%!  %%HTML  %%SVG  %%bash  %%capture  %%debug  %%file  %%html  %%javascript  %%js  %%latex  %%markdown  %%perl  %%prun  %%pypy  %%python  %%python2  %%python3  %%ruby  %%script  %%sh  %%svg  %%sx  %%system  %%time  %%timeit  %%writefile\n",
       "\n",
       "Automagic is ON, % prefix IS NOT needed for line magics."
      ]
     },
     "execution_count": 6,
     "metadata": {},
     "output_type": "execute_result"
    }
   ],
   "source": [
    "%lsmagic"
   ]
  },
  {
   "cell_type": "markdown",
   "metadata": {},
   "source": [
    "In particular, some commands useful for developing include `%%time`, which gives you the runtime of a particular cell. If you want to use a diferent version of python for one cell only, you can call a command for that, such as `%%python2` to use Python 2. To use matplotlib in our notebook cells, we call `%matplotlib inline` as we did above when importing packages. Finally, UNIX operations can also be called using magic commands without needing to leave a notebook environment. `%%ls` shows you your current directory, `%%cd` will help you change directories, `%%mv` can move a file from one directory to another, etc. A deeper look at UNIX commands is available [here](https://www.unixtutorial.org/basic-unix-commands)"
   ]
  },
  {
   "cell_type": "markdown",
   "metadata": {},
   "source": [
    "## Widgets"
   ]
  },
  {
   "cell_type": "markdown",
   "metadata": {},
   "source": [
    "As we work to develop notebooks, we want them to be as easy to use and accessible to as many students as possible. Thus, it is often good practice to include widgets, or tools that allow users to interact with our notebooks without requiring an interaction with code directly. There is a lot that we can do with widgets, but below is one example of how we can make a plot made using our conventional python tactics accessible by widgets."
   ]
  },
  {
   "cell_type": "markdown",
   "metadata": {},
   "source": [
    "### Original"
   ]
  },
  {
   "cell_type": "markdown",
   "metadata": {},
   "source": [
    "We will write a simple function below that takes in a value `freq`, and plots a sine wave that has a frequency equal to the value of `freq`"
   ]
  },
  {
   "cell_type": "code",
   "execution_count": 22,
   "metadata": {},
   "outputs": [],
   "source": [
    "def plot_sin(freq):\n",
    "    x = np.linspace(0, 2*np.pi)\n",
    "    y = np.sin(x * freq)\n",
    "    plt.plot(x, y)"
   ]
  },
  {
   "cell_type": "code",
   "execution_count": 23,
   "metadata": {},
   "outputs": [
    {
     "data": {
      "image/png": "[encoded data removed]",
      "text/plain": [
       "<Figure size 432x288 with 1 Axes>"
      ]
     },
     "metadata": {
      "needs_background": "light"
     },
     "output_type": "display_data"
    }
   ],
   "source": [
    "plot_sin(2)"
   ]
  },
  {
   "cell_type": "markdown",
   "metadata": {},
   "source": [
    "### Widgetized"
   ]
  },
  {
   "cell_type": "markdown",
   "metadata": {},
   "source": [
    "To change our plot, we could call plot_sin using a new and different parametyer, but we can also utilize widgets to create a smoother interactive experience. Here we call interact which comes from the ipywidgets package, and give as our first parameter the function we are trying to interact with. The second parameter is the piece of data that we would like to change, in our case the parameter `freq`, and we specify that we want this parameter to be given using a slider with default value 2, min 1, max 5, and a step of 0.25. Running the following cell now gives us an interactive way to look at sine curves, that requires no alteration of code on the part of the audience."
   ]
  },
  {
   "cell_type": "code",
   "execution_count": 31,
   "metadata": {},
   "outputs": [
    {
     "data": {
      "application/vnd.jupyter.widget-view+json": {
       "model_id": "c7524081ddd64f0a8c64ef113876c737",
       "version_major": 2,
       "version_minor": 0
      },
      "text/plain": [
       "interactive(children=(FloatSlider(value=2.0, description='freq', max=5.0, min=1.0, step=0.25), Output()), _dom…"
      ]
     },
     "metadata": {},
     "output_type": "display_data"
    },
    {
     "data": {
      "text/plain": [
       "<function __main__.plot_sin(freq)>"
      ]
     },
     "execution_count": 31,
     "metadata": {},
     "output_type": "execute_result"
    }
   ],
   "source": [
    "interact(plot_sin, freq = widgets.FloatSlider(value=2,\n",
    "                                               min=1,\n",
    "                                               max=5.0,\n",
    "                                               step=0.25))"
   ]
  },
  {
   "cell_type": "markdown",
   "metadata": {},
   "source": [
    "## Extensions"
   ]
  },
  {
   "cell_type": "code",
   "execution_count": null,
   "metadata": {},
   "outputs": [],
   "source": []
  }
 ],
 "metadata": {
  "kernelspec": {
   "display_name": "Python 3",
   "language": "python",
   "name": "python3"
  },
  "language_info": {
   "codemirror_mode": {
    "name": "ipython",
    "version": 3
   },
   "file_extension": ".py",
   "mimetype": "text/x-python",
   "name": "python",
   "nbconvert_exporter": "python",
   "pygments_lexer": "ipython3",
   "version": "3.6.9"
  }
 },
 "nbformat": 4,
 "nbformat_minor": 4
}
