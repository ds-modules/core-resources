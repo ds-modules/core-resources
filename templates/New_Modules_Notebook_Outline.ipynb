{
 "cells": [
  {
   "cell_type": "markdown",
   "id": "0a6f3cbb",
   "metadata": {},
   "source": [
    "# [Course Title Here] Lab Title Here\n",
    "\n",
    "<br>\n",
    "\n",
    "**Estimated Time:** __ minutes <br>\n",
    "**Notebook Developed By:** names of team lead and developer(s) <br>\n",
    "\n",
    "This is a statement at the beginning of the notebook that introduces students to what the lab is about. This statement should be no more than 5 sentences and should give a summary of what they will be learning. What are the course concepts they will be discussing and tackling in this notebook? What are some of the technical tools and methodologies in both this courses and data science that they will using? If students are not familar with Jupyter Notebooks, discuss what they are seeing here. For example, \"The notebook will also serve as a gentle introduction to Jupyter Notebooks (the platform you are currently using) and Python (a coding language).\"\n",
    "\n",
    "### Learning Outcomes\n",
    "\n",
    "In this notebook, you will learn about:\n",
    "- Learning Objective #1\n",
    "- Learning Objective #2\n",
    "- Learning Objective #3\n",
    "- Learning Objective #4\n",
    "- etc...\n",
    "\n",
    "### Table of Contents\n",
    "1. [Introduction to Jupyter](#0) <br>\n",
    "1. [Introduction to Python](#1) <br>\n",
    "1. [Introduction to the Dataset](#2) <br>\n",
    "1. [Title of Concept #1](#3) <br>\n",
    "1. [Title of Concept #2](#4) <br>\n",
    "1. [Title of Concept #3](#5)<br>\n",
    "1. [Bonus Challenge](#6)<br>\n",
    "1. [Submitting Your Work](#7)<br>\n",
    "1. [Explore Data Science Opportunities](#8)<br>\n",
    "\n",
    "-------------------------------------------------------------------"
   ]
  },
  {
   "cell_type": "markdown",
   "id": "9547d777",
   "metadata": {},
   "source": [
    "# 1. Introduction to Jupyter <a id='0'></a>\n",
    "\n",
    "This webpage is a Jupyter Notebook. Jupyter Notebooks run on the Python coding language and provides an interactive interface for students to learn data science. We will use this notebook to <font color='red'> discuss objective of the notebook here but remove the red font </font> Jupyter Notebooks are composed of both regular text (white background) and code cells (gray background). In order to run a code cell, click the cell and press `Shift + Enter` while the cell is selected or hit the `▶| Run` button in the toolbar at the top. You can also save your work using the button on the top left hand corner.\n",
    "\n",
    "An example of a code cell is shown below. The contents of this cell set up the notebook by importing pre-written Python packages that we will be help us us to read in, clean, analyze, and model our data. Run it, and once it is done, you should see \"Done!\" printed underneath the cell. "
   ]
  },
  {
   "cell_type": "code",
   "execution_count": null,
   "id": "3d05213e",
   "metadata": {},
   "outputs": [],
   "source": [
    "# Insert all Necessary Python Packages Here\n",
    "import numpy as np\n",
    "import pandas as pd\n",
    "import folium\n",
    "import ipywidgets as widgets\n",
    "from IPython.display import display, HTML\n",
    "from otter import Notebook\n",
    "import datascience\n",
    "import matplotlib.pyplot as plt\n",
    "%matplotlib inline\n",
    "plt.style.use('fivethirtyeight')\n",
    "import seaborn as sns\n",
    "print(\"Done!\")"
   ]
  },
  {
   "cell_type": "markdown",
   "id": "24cb0dbb",
   "metadata": {},
   "source": [
    "<font color='red'> **Note:** This is a placeholder for our soon to be created Youtube Video on how to navigate and use Jupyter Notebooks </font>\n",
    "\n",
    "Run the following code cell below to view a complete guide for how to navigate Jupyter Notebooks and solutions to any technical issues that students potentially face:"
   ]
  },
  {
   "cell_type": "code",
   "execution_count": null,
   "id": "36b4235f",
   "metadata": {},
   "outputs": [],
   "source": [
    "from IPython.lib.display import YouTubeVideo\n",
    "YouTubeVideo('QMR4nSdxu_M', width=1000, height=400)"
   ]
  },
  {
   "cell_type": "markdown",
   "id": "468546cd",
   "metadata": {},
   "source": [
    "### 1.1 Types of Cells\n",
    "\n",
    "#### Text Cells\n",
    "Text cells (like this one) can be edited by double-clicking on them. They're written in a simple format called Markdown to add formatting and section headings. You don't need to learn Markdown, but know the difference between Text Cells and Code Cells.\n",
    "\n",
    "#### Code Cells \n",
    "Other cells contain code in the Python 3 language. Don't worry -- you are not expected to write your own code for this notebook. Be sure to review, however, how to **run** a code cell! \n",
    "\n",
    "#### Running Cells\n",
    "\"Running a cell\" is equivalent to pressing \"Enter\" on a calculator once you've typed in the expression you want to evaluate: it produces an output. When you run a text cell, it outputs clean, organized writing. When you run a code cell, it computes all of the expressions you want to evaluate, and can output the result of the computation.\n",
    "\n",
    "To run the code in a code cell, first click on that cell to activate it.  It'll be highlighted with a little green or blue rectangle.  Next, you can either press the <code><b> ▶|</b> Run </code> button above or press <b><code>Shift + Return</code></b> or <b><code>Shift + Enter</code></b>. This will run the current cell and select the next one.\n",
    "\n",
    "#### How to save your work\n",
    "Click on the leftmost icon in the tool bar (left of the plus icon).\n",
    "Alternatively, you can hit Ctrl+S on a PC or Command+Enter on a Mac."
   ]
  },
  {
   "cell_type": "markdown",
   "id": "e064129b",
   "metadata": {},
   "source": [
    "\n",
    "### 1.2 Common errors and how to fix them\n",
    "\n",
    "##### Accidentally deleted something in a cell? \n",
    "Double click on that cell and press Ctrl+Z or Command+Z until you recover the deleted information. Otherwise, ask your GSI for help. \n",
    "\n",
    "##### Getting a really long error message? \n",
    "This could be a result of deleting code somewhere in the notebook in a code cell. If you remember which cell you deleted code from, double click on that cell and press Ctrl+Z or Command+Z until the code is as it was originally. Otherwise, raise your hand and ask for help from your GSI. \n",
    "\n",
    "##### Getting the error 'data_frame' not present? \n",
    "Make sure you have all of the relevant data files in your datahub home. Download the .csv files. Upload them into datahub in the folder where you see this notebook is stored. \n",
    "\n",
    "##### Something is running for too long? \n",
    "Try restarting the kernel. Sometimes Jupyter might be overloaded with the simplest of commands. Don't worry, just save your work and restart the kernel. \n",
    "\n",
    "##### Getting multiple plots in the widgets below?\n",
    "This happened because you ran the line `from datascience import *`  before working with the plot widgets. Try restarting the kernel and making sure you finish your work with the plot widgets BEFORE running the code cell with the aforementioned line. \n"
   ]
  },
  {
   "cell_type": "markdown",
   "id": "502439d6",
   "metadata": {},
   "source": [
    "### 1.3 Where to Get Help - Peer Consultants\n",
    "\n",
    "This class as well as the Division of Computing, Data Science, and Society has many resources to help you gain the most out of this assignment. The Division is hosting virtual [data science office hours](https://data.berkeley.edu/discovery/data-peer-consulting) where you can drop by and ask for help with your notebook. <br>\n",
    "\n",
    "-------------------------------------------------------------------"
   ]
  },
  {
   "cell_type": "markdown",
   "id": "4897da7c",
   "metadata": {},
   "source": [
    "# 2. Introduction to Python <a id='1'></a>\n",
    "\n"
   ]
  },
  {
   "cell_type": "code",
   "execution_count": null,
   "id": "19924bb7",
   "metadata": {},
   "outputs": [],
   "source": []
  },
  {
   "cell_type": "code",
   "execution_count": null,
   "id": "35737354",
   "metadata": {},
   "outputs": [],
   "source": []
  },
  {
   "cell_type": "markdown",
   "id": "5d20f7be",
   "metadata": {},
   "source": [
    "# 3. Introduction to [Name of Dataset] <a id='2'></a>\n",
    "\n",
    "<font color='red'>This section of text should include a brief introduction to the concept / material of the class related to the dataset. For example, a biological sciences class might introduce the concept of a bacteria known as methicillin resistant S. auereus (MRSA), common stats about the bacteria, and how it spreads throughout communities. A labor studies course might introduce some background information about common labor statistics or perceptions of the labor workforce / unions that they may attempt to demystify. And a Political Science course may introduce some history on policies or voting patterns / behaviors as well as research papers or news articles that reported recent statistics about polls, for example. Take this section to make that introduction before reading in the dateset. Then start asking questions to students about what prior understanding they may have about this topic or statistics. For example, you can ask: </font>"
   ]
  },
  {
   "cell_type": "markdown",
   "id": "5c5dc345",
   "metadata": {},
   "source": [
    "### Discussion Question 1: \n",
    "**From what you know about MRSA, where do you think the majority of MRSA cases are located in California (urban counties vs. rural counties)? Why might this difference in population density be significant in the total number of MRSA infections?**"
   ]
  },
  {
   "cell_type": "markdown",
   "id": "6b450ad0",
   "metadata": {},
   "source": [
    "REPLACE THIS TEXT WITH YOUR RESPONSE. DOUBLE CLICK THIS CELL, TYPE YOUR RESPONSE, AND RUN THE CELL TO SAVE AND DISPLAY YOUR RESPONSE."
   ]
  },
  {
   "cell_type": "markdown",
   "id": "f6a3db7b",
   "metadata": {},
   "source": [
    "---"
   ]
  },
  {
   "cell_type": "markdown",
   "id": "14c6fac4",
   "metadata": {},
   "source": [
    "### 3.1 Reading in the Data\n",
    "\n",
    "In this section you should introduce the data and answer the following questions in the section below this statement: What is the title of the dataset? Where does the data come from? How was the data collected? How are certain variables/features coded? Can you link the source of the data and the metadata for students to read more information about?\n",
    "\n",
    "> Answer the aforementioned questions here.\n",
    "\n",
    "The command `pd.read_csv` allows us to reads and loads our csv file and `.head()` gives us the first 5 rows of the dataset. Run the code cell below to load the data that we will be using for analysis."
   ]
  },
  {
   "cell_type": "code",
   "execution_count": null,
   "id": "d6612dce",
   "metadata": {},
   "outputs": [],
   "source": [
    "# This cell will read in the necessary data sets. Run it and take a look at the dataframe / table below!\n",
    "data = pd.read_csv('data.csv') # reads csv file and loads it\n",
    "data.head()"
   ]
  },
  {
   "cell_type": "markdown",
   "id": "8da49ba0",
   "metadata": {},
   "source": [
    "<font color='red'> In this section of the Markdown, replace with a discussion on what the students are looking at. What different columns are there and what values do we see? Are there any missing values? What is a dataframe? Who/What is represented in the data? Who/What is not represented in the data?  </font>"
   ]
  },
  {
   "cell_type": "markdown",
   "id": "18d9feb8",
   "metadata": {},
   "source": [
    "### 3.1 Understanding the Data\n",
    "\n",
    "#### 3.1.1 Rows\n",
    "\n",
    "Let's take a look at the first row of the dataset for Name_Of_Dataset."
   ]
  },
  {
   "cell_type": "code",
   "execution_count": null,
   "id": "086db284",
   "metadata": {},
   "outputs": [],
   "source": [
    "data.take([0])"
   ]
  },
  {
   "cell_type": "markdown",
   "id": "10f19a49",
   "metadata": {},
   "source": [
    "Answer the following questions for the student: What does this particular row in our data represent? How can we generalize this for each row of the data? What does each row of the data represent? Encourage students to change the index / selection of a row of the data and see for themselves a different sample row of the data."
   ]
  },
  {
   "cell_type": "markdown",
   "id": "1f347589",
   "metadata": {},
   "source": [
    "#### 3.1.2. Columns\n",
    "\n",
    "Run the code cell below to see the list of the columns in our dataset."
   ]
  },
  {
   "cell_type": "code",
   "execution_count": null,
   "id": "2f241cda",
   "metadata": {},
   "outputs": [],
   "source": [
    "data.columns.tolist()"
   ]
  },
  {
   "cell_type": "markdown",
   "id": "4754ccae",
   "metadata": {},
   "source": [
    "Explain here what all the columns mean."
   ]
  },
  {
   "cell_type": "code",
   "execution_count": null,
   "id": "5730b9d3",
   "metadata": {},
   "outputs": [],
   "source": [
    "# insert code here to extract a single column"
   ]
  },
  {
   "cell_type": "markdown",
   "id": "2a247530",
   "metadata": {},
   "source": [
    "Try taking a single column and output the first 5-10 values and explain to the students what they should be seeing. Encourage them to try a different string/name. "
   ]
  },
  {
   "cell_type": "markdown",
   "id": "fdb466c5",
   "metadata": {},
   "source": [
    "### Discussion Question 2: \n",
    "**Given the information you know about this dataset, what questions do you think we can ask and answer about the data?**"
   ]
  },
  {
   "cell_type": "markdown",
   "id": "02633bf0",
   "metadata": {},
   "source": [
    "REPLACE THIS TEXT WITH YOUR RESPONSE. DOUBLE CLICK THIS CELL, TYPE YOUR RESPONSE, AND RUN THE CELL TO SAVE AND DISPLAY YOUR RESPONSE."
   ]
  },
  {
   "cell_type": "markdown",
   "id": "d93e6f31",
   "metadata": {},
   "source": [
    "# 4. Title of Concept #1  <a id='3'></a>\n",
    "\n",
    "Introduce the concept or background information that students may need. This may include research papers, equations (which you can write out using LaTeX), previous lecture materials, images, etc. Example LaTeX below:\n",
    "\n",
    "$$H←  0 + \\frac{30(G−B)}{Vmax−Vmin}  , if Vmax = R$$\n",
    "\n",
    "At any point that you are showcasing a visualization or a piece of code the order of the format for data science pedagogy is:\n",
    "\n",
    "1. Explain what the code cell does below. Use `these tick marks` to point out certain chunks of code and explain what it does. Use Hints that might help students if they need to do any coding.\n",
    "\n",
    "2. Write the code cell. Use scaffolding if students need to code. Create widgets if you aim to add interactivity. Create the code that might output a visualization of interest.\n",
    "\n",
    "3. Explain the output above. What are students supposed to see? For example, if this is a histogram, how can they translate it in the context of the data of interest / course material?\n",
    "\n",
    "4. Incorporate Discussion Questions for the students to fill out to test their understanding. Use the following format as an example for easy readability:\n",
    "\n",
    "**Note:** Use breakpoints in HTML `<br><br>` for spacing things out and easier readability between sections, questions, code, etc."
   ]
  },
  {
   "cell_type": "markdown",
   "id": "f390c447",
   "metadata": {},
   "source": [
    "<br><br>\n",
    "### Sample Discussion Question: \n",
    "**In the graph above we see that there in a decline in population. Given what we know about the data and material discussed in class, what could attribute to this decline? What do we expect the following 10 years to look like?**"
   ]
  },
  {
   "cell_type": "markdown",
   "id": "4dfe5636",
   "metadata": {},
   "source": [
    "REPLACE THIS TEXT WITH YOUR RESPONSE. DOUBLE CLICK THIS CELL, TYPE YOUR RESPONSE, AND RUN THE CELL TO SAVE AND DISPLAY YOUR RESPONSE."
   ]
  },
  {
   "cell_type": "markdown",
   "id": "0f61d16b",
   "metadata": {},
   "source": [
    "<br><br>\n",
    "# 5. Title of Concept #2  <a id='4'></a>\n",
    "\n",
    "Introduce the concept or background information that students may need. This may include research papers, equations (which you can write out using LaTeX), previous lecture materials, images, etc.\n",
    "\n",
    "> Sometimes we may want to highlight a certain concept of interest that students should remember or learn about. We would then type it in this section of the Jupyter Notebook for this specific concept. We may then proceed to add more code cells, interactivity, and questions?"
   ]
  },
  {
   "cell_type": "markdown",
   "id": "ab7c930d",
   "metadata": {},
   "source": [
    "### Sample Discussion Question: \n",
    "**Another Sample Question Here?**"
   ]
  },
  {
   "cell_type": "markdown",
   "id": "6d1282e6",
   "metadata": {},
   "source": [
    "REPLACE THIS TEXT WITH YOUR RESPONSE. DOUBLE CLICK THIS CELL, TYPE YOUR RESPONSE, AND RUN THE CELL TO SAVE AND DISPLAY YOUR RESPONSE."
   ]
  },
  {
   "cell_type": "markdown",
   "id": "2e27b0ef",
   "metadata": {},
   "source": [
    "<br><br>\n",
    "# 6. Title of Concept #3  <a id='5'></a>\n",
    "\n",
    "Introduce the concept or background information that students may need. This may include research papers, equations (which you can write out using LaTeX), previous lecture materials, images, etc."
   ]
  },
  {
   "cell_type": "markdown",
   "id": "633a32f0",
   "metadata": {},
   "source": [
    "### Sample Discussion Question: \n",
    "**Another Sample Question Here?**"
   ]
  },
  {
   "cell_type": "markdown",
   "id": "dc6c949c",
   "metadata": {},
   "source": [
    "REPLACE THIS TEXT WITH YOUR RESPONSE. DOUBLE CLICK THIS CELL, TYPE YOUR RESPONSE, AND RUN THE CELL TO SAVE AND DISPLAY YOUR RESPONSE."
   ]
  },
  {
   "cell_type": "markdown",
   "id": "a1abd2d7",
   "metadata": {},
   "source": [
    "<br><br>\n",
    "# 7. [Optional] Bonus Challenge  <a id='6'></a>\n",
    "\n",
    "Sometimes we may come across a course that have diverse student learning backgrounds. Some students may have data Data 8 or Data 100 already and other students are seeing coding for the very first time. In DSUS Modules, we like to gear towards students who are mostly seeing coding for the first time so that Python and Jupyter Notebooks are not intimiating to them and we continue to inspire students that they too can do data science. Therefore, we add an Optional Bonus Challenge for students who might be more advanced and are looking to test their technical skills.\n",
    "\n",
    "How would this look like? We might add an block of code cell to give the liberty to students to code or we might add some scaffolding (depending on our audience)."
   ]
  },
  {
   "cell_type": "code",
   "execution_count": null,
   "id": "3d0d3e32",
   "metadata": {},
   "outputs": [],
   "source": [
    "# Sample Bonus Challenge code goes here"
   ]
  },
  {
   "cell_type": "markdown",
   "id": "20adda58",
   "metadata": {},
   "source": [
    "<br><br>\n",
    "# 8. Submitting Your Work  <a id='7'></a>\n",
    "\n",
    "If an instructor requires a PDF output for students based on their text Markdown Responses, we typically use the Otter package (developed here at Berkeley) to extract the student responses. To do this you can follow the instructions on this document: [How To Otter](https://docs.google.com/document/d/1Rl735LKpD_5gs6dUa8xJTILa510JeatIDB_M_FNRDow/edit?usp=sharing). Below is a sample code and markdown instructions we use to guide students to extract the text content from their notebook:"
   ]
  },
  {
   "cell_type": "markdown",
   "id": "fc6ed83d",
   "metadata": {},
   "source": [
    "**Make sure that you've answered all the questions.**\n",
    "\n",
    "You are now finished with this notebook!\n",
    "\n",
    "> Please run the following cell to generate a download link for your responses and submit to Bcourses!\n",
    "\n",
    "**Note:** If clicking the link below doesn't work for you, don't worry! Simply right click and choose `Save Link As...` to save a copy of your pdf onto your computer.\n",
    "\n",
    "**Note:** If you made any changes to your responses and/or they are not reflected in your PDF, make sure to re-run all the cells. You can do this by going to the top and clicking `Cell >> Run All` and download your new PDF.\n",
    "\n",
    "**Check the PDF before submitting and make sure all of your answers and any changes are shown.**"
   ]
  },
  {
   "cell_type": "code",
   "execution_count": null,
   "id": "adf7e731",
   "metadata": {},
   "outputs": [],
   "source": [
    "#This may take a few extra seconds.\n",
    "from otter.export import export_notebook\n",
    "from IPython.display import display, HTML\n",
    "export_notebook(\"Notebook1.ipynb\", filtering=True, pagebreaks=False)\n",
    "display(HTML(\"<p style='font-size:20px'> <br>Save this notebook, then click <a href='Notebook1.pdf' download>here</a> to open the pdf.<br></p>\"))"
   ]
  },
  {
   "cell_type": "markdown",
   "id": "bc4f0907",
   "metadata": {},
   "source": [
    "<br><br>\n",
    "# 9. Explore Data Science Opportunities  <a id='8'></a>\n",
    "\n",
    "Interested in learning more about how to get involved in data science or learn about data science applications in your field of study? The following resources might help support your learning:\n",
    "\n",
    "---\n",
    "\n",
    "- Data Science Modules: http://data.berkeley.edu/education/modules\n",
    "\n",
    "- Data Science Offerings at Berkeley: https://data.berkeley.edu/academics/undergraduate-programs/data-science-offerings\n",
    "\n",
    "- Data 8 Course Information: http://data8.org/\n",
    "\n",
    "- Data 100 Course Information: https://ds100.org/\n",
    "\n",
    "<font color='red'> **Note to Developers:** Incorporate additional resources for students that are relevant to their field of study. For example, if this was a Molecular and Cellular Biology course, are there additional courses that touch upon data science applications in the biological sciences? Are there other Modules or Connector courses we can recommend students to enroll in? </font>"
   ]
  },
  {
   "cell_type": "markdown",
   "id": "3938db15",
   "metadata": {},
   "source": [
    "# 10. Feedback Form\n",
    "\n",
    "<div class=\"alert alert-info\">\n",
    "<b> We encourage student to fill out the following feedback form to share your experience with this Module notebook. This feedback form will take no longer than 5 minutes. At UC Berkeley Data Science Undergraduate Studies Modules, we appreciate all feedback to improve the learning of students and experience utilizing Jupyter Notebooks for Data Science Education: </b> \n",
    "</div>\n",
    "\n",
    "# [UC Berkeley Data Science Feedback Form](https://forms.gle/hipxf2uFw5Ud4Hyn8)"
   ]
  },
  {
   "cell_type": "code",
   "execution_count": null,
   "id": "82a7ae2e",
   "metadata": {},
   "outputs": [],
   "source": []
  }
 ],
 "metadata": {
  "kernelspec": {
   "display_name": "Python 3 (ipykernel)",
   "language": "python",
   "name": "python3"
  },
  "language_info": {
   "codemirror_mode": {
    "name": "ipython",
    "version": 3
   },
   "file_extension": ".py",
   "mimetype": "text/x-python",
   "name": "python",
   "nbconvert_exporter": "python",
   "pygments_lexer": "ipython3",
   "version": "3.9.15"
  }
 },
 "nbformat": 4,
 "nbformat_minor": 5
}
